{
 "cells": [
  {
   "cell_type": "markdown",
   "metadata": {},
   "source": [
    "## Grupo: \n",
    " Mateus Ribeiro: 555225, Hubert Luz: 552798, Vinchensus Lobo: 554036. \n",
    "### Importando as bibliotecas"
   ]
  },
  {
   "cell_type": "code",
   "execution_count": null,
   "metadata": {},
   "outputs": [],
   "source": [
    "from matplotlib import pyplot as plt \n",
    "import numpy as np \n",
    "from scipy.io.wavfile import read, write\n",
    "from numpy.fft import fft, ifft, fftfreq, fftshift\n",
    "from IPython.display import Audio as play\n",
    "from pathlib import Path "
   ]
  },
  {
   "cell_type": "markdown",
   "metadata": {},
   "source": [
    "### Função auxiliar para plotagem de um vetor no domínio da frequência em dB"
   ]
  },
  {
   "cell_type": "code",
   "execution_count": null,
   "metadata": {},
   "outputs": [],
   "source": [
    "def spectrum(x_freq):\n",
    "# \n",
    "# x_freq: vetor no domínio da frequência, complexo\n",
    "#\n",
    "    x_magnitude = np.abs(x_freq)\n",
    "    # Normalização para o valor máximo ser 0dB\n",
    "    x_magnitude /= np.max(x_magnitude)\n",
    "    return 20*np.log10(x_magnitude)"
   ]
  },
  {
   "cell_type": "markdown",
   "metadata": {},
   "source": [
    "### 1. Lendo o arquivo .wav para obter o sinal x[n] em forma de vetor"
   ]
  },
  {
   "cell_type": "code",
   "execution_count": null,
   "metadata": {},
   "outputs": [],
   "source": [
    "data_path=Path('../data')\n",
    "wav_files = list(data_path.glob('*.wav'))\n",
    "\n",
    "sample_rate_1, signal_1 = read(data_path/'01.wav')\n",
    "sample_rate_2, signal_2 = read(data_path/'02.wav')\n",
    "\n",
    "print(f\"Sample_Rate_1: {sample_rate_1}\")\n",
    "print(f\"Sample_Rate_2: {sample_rate_2}\")\n",
    "print(f\"Signal1 : {signal_1}\")\n",
    "print(f\"Signal 2: {signal_2}\")"
   ]
  },
  {
   "cell_type": "markdown",
   "metadata": {},
   "source": [
    "### 2. Plotando o gráfico de x[n] no tempo e de seu espectro de frequência"
   ]
  },
  {
   "cell_type": "code",
   "execution_count": null,
   "metadata": {},
   "outputs": [],
   "source": [
    "\"\"\"\n",
    "Primeiro vamos pegar o numero de amostras de cada sinal para que possamos calcular o tempo total do sinal, \n",
    "isso é feito simplesmente dividindo o número de amostras pela frequência, em seguida criamos um vetor de\n",
    "tempo t que será usado para plotar o sinal no domínio do tempo\n",
    "\"\"\"\n",
    "\n",
    "N1 = len(signal_1)\n",
    "N2 = len(signal_2)\n",
    "\n",
    "T1 = N1/sample_rate_1\n",
    "T2 = N2/sample_rate_2\n",
    "\n",
    "t1 = np.linspace(0, T1, N1, endpoint=False)\n",
    "t2 = np.linspace(0, T2, N2, endpoint=False)\n",
    "\n",
    "\"\"\"\n",
    "Em seguinda, para obtermos no domínio da frequência, basta aplicarmos a transformada de fourier nos sinais usando\n",
    "a fft() e usar a fftfreq() para pegar o array de frequências que correspondem aos componentes da fft\n",
    "\"\"\"\n",
    "signal_1_f = fft(signal_1)\n",
    "signal_2_f = fft(signal_2)\n",
    "s1f = fftfreq(N1, 1 / sample_rate_1)\n",
    "s2f = fftfreq(N2, 1 / sample_rate_2)\n",
    "\n",
    "\"\"\"\n",
    "Armazenando em listas para facilitar o plot\n",
    "\"\"\"\n",
    "signals = [signal_1, signal_2]\n",
    "sample_rates = [sample_rate_1, sample_rate_2]\n",
    "ts = [t1, t2]\n",
    "ffts = [signal_1_f, signal_2_f]\n",
    "fs = [s1f, s2f]"
   ]
  },
  {
   "cell_type": "code",
   "execution_count": null,
   "metadata": {},
   "outputs": [],
   "source": [
    "plt.figure(figsize=(12, 10))\n",
    "\n",
    "for i in range(len(signals)):\n",
    "    # Sinal no tempo\n",
    "    plt.subplot(len(signals), 2, 2*i + 1)\n",
    "    plt.plot(ts[i], signals[i])\n",
    "    plt.title(f'Sinal {i+1} no Tempo')\n",
    "    plt.xlabel('Tempo [s]')\n",
    "    plt.ylabel('Amplitude')\n",
    "    \n",
    "    # Espectro de frequência\n",
    "    plt.subplot(len(signals), 2, 2*i + 2)\n",
    "    plt.plot(fs[i], np.abs(ffts[i]))\n",
    "    plt.title(f'Espectro de Frequência do Sinal {i+1}')\n",
    "    plt.xlabel('Frequência [Hz]')\n",
    "    plt.ylabel('Magnitude')\n",
    "    plt.grid()\n",
    "\n",
    "plt.tight_layout()\n",
    "plt.show()"
   ]
  },
  {
   "cell_type": "markdown",
   "metadata": {},
   "source": [
    "### Avaliando o espectro do sinal:\n",
    "\n"
   ]
  },
  {
   "cell_type": "code",
   "execution_count": null,
   "metadata": {},
   "outputs": [],
   "source": []
  }
 ],
 "metadata": {
  "kernelspec": {
   "display_name": "Python 3",
   "language": "python",
   "name": "python3"
  },
  "language_info": {
   "codemirror_mode": {
    "name": "ipython",
    "version": 3
   },
   "file_extension": ".py",
   "mimetype": "text/x-python",
   "name": "python",
   "nbconvert_exporter": "python",
   "pygments_lexer": "ipython3",
   "version": "3.12.1"
  }
 },
 "nbformat": 4,
 "nbformat_minor": 2
}
